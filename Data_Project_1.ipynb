{
  "nbformat": 4,
  "nbformat_minor": 0,
  "metadata": {
    "colab": {
      "provenance": [],
      "authorship_tag": "ABX9TyPV5sx7sldSFd/OV25z31SH",
      "include_colab_link": true
    },
    "kernelspec": {
      "name": "python3",
      "display_name": "Python 3"
    },
    "language_info": {
      "name": "python"
    }
  },
  "cells": [
    {
      "cell_type": "markdown",
      "metadata": {
        "id": "view-in-github",
        "colab_type": "text"
      },
      "source": [
        "<a href=\"https://colab.research.google.com/github/aniishap/ds2002/blob/main/Data_Project_1.ipynb\" target=\"_parent\"><img src=\"https://colab.research.google.com/assets/colab-badge.svg\" alt=\"Open In Colab\"/></a>"
      ]
    },
    {
      "cell_type": "code",
      "source": [
        "!pip install PyMySQL\n",
        "!pip install mysql.connector\n",
        "!pip install sqlalchemy\n",
        "!pip install mysql-connector-python\n",
        "!pip install pyMysql\n",
        "\n"
      ],
      "metadata": {
        "colab": {
          "base_uri": "https://localhost:8080/"
        },
        "id": "hpvm4GezGF7e",
        "outputId": "7dd040e6-2d4a-42e3-ccee-098a7742e55a"
      },
      "execution_count": 132,
      "outputs": [
        {
          "output_type": "stream",
          "name": "stdout",
          "text": [
            "Requirement already satisfied: PyMySQL in /usr/local/lib/python3.10/dist-packages (1.1.0)\n",
            "Collecting mysql.connector\n",
            "  Downloading mysql-connector-2.2.9.tar.gz (11.9 MB)\n",
            "\u001b[2K     \u001b[90m━━━━━━━━━━━━━━━━━━━━━━━━━━━━━━━━━━━━━━━━\u001b[0m \u001b[32m11.9/11.9 MB\u001b[0m \u001b[31m23.4 MB/s\u001b[0m eta \u001b[36m0:00:00\u001b[0m\n",
            "\u001b[?25h  Preparing metadata (setup.py) ... \u001b[?25l\u001b[?25hdone\n",
            "Building wheels for collected packages: mysql.connector\n",
            "  Building wheel for mysql.connector (setup.py) ... \u001b[?25l\u001b[?25hdone\n",
            "  Created wheel for mysql.connector: filename=mysql_connector-2.2.9-cp310-cp310-linux_x86_64.whl size=247953 sha256=ec486a5c86cf8a1aa4e8df7d812b20b8702f87d66ceff94780be8e45e698ed17\n",
            "  Stored in directory: /root/.cache/pip/wheels/76/48/9b/da67ff1a18fe8e9d428f9b1a177716d4a7d363d2bbe83bf6cf\n",
            "Successfully built mysql.connector\n",
            "Installing collected packages: mysql.connector\n",
            "Successfully installed mysql.connector-2.2.9\n",
            "Requirement already satisfied: sqlalchemy in /usr/local/lib/python3.10/dist-packages (2.0.29)\n",
            "Requirement already satisfied: typing-extensions>=4.6.0 in /usr/local/lib/python3.10/dist-packages (from sqlalchemy) (4.10.0)\n",
            "Requirement already satisfied: greenlet!=0.4.17 in /usr/local/lib/python3.10/dist-packages (from sqlalchemy) (3.0.3)\n",
            "Collecting mysql-connector-python\n",
            "  Downloading mysql_connector_python-8.3.0-cp310-cp310-manylinux_2_17_x86_64.whl (21.5 MB)\n",
            "\u001b[2K     \u001b[90m━━━━━━━━━━━━━━━━━━━━━━━━━━━━━━━━━━━━━━━━\u001b[0m \u001b[32m21.5/21.5 MB\u001b[0m \u001b[31m29.6 MB/s\u001b[0m eta \u001b[36m0:00:00\u001b[0m\n",
            "\u001b[?25hInstalling collected packages: mysql-connector-python\n",
            "Successfully installed mysql-connector-python-8.3.0\n",
            "Requirement already satisfied: pyMysql in /usr/local/lib/python3.10/dist-packages (1.1.0)\n"
          ]
        }
      ]
    },
    {
      "cell_type": "code",
      "execution_count": 133,
      "metadata": {
        "id": "J00PYJ-dFwup"
      },
      "outputs": [],
      "source": [
        "import os\n",
        "import datetime\n",
        "import pymongo\n",
        "import pprint\n",
        "import pandas as pd\n"
      ]
    },
    {
      "cell_type": "code",
      "source": [
        "import os\n",
        "import numpy\n",
        "import pandas as pd\n",
        "from sqlalchemy import create_engine\n",
        "\n",
        "#Set the host name here\n",
        "#If you are running against a database locally it would be local host or 127.0.0.1\n",
        "host_name = \"database.ds2002.org\"\n",
        "#host_ip = \"127.0.0.1\"\n",
        "port = \"3306\"\n",
        "\n",
        "user_id = \"euv7bw\" #Use yours here\n",
        "pwd = \"euv7bw!\"  #Use yours here\n",
        "db_name = \"sakila\""
      ],
      "metadata": {
        "id": "uKRpCQe7GngA"
      },
      "execution_count": 137,
      "outputs": []
    },
    {
      "cell_type": "code",
      "source": [
        "def get_dataframe(user_id, pwd, host_name, db_name, sql_query):\n",
        "    conn_str = f\"mysql+pymysql://{user_id}:{pwd}@{host_name}/{db_name}\"\n",
        "    sqlEngine = create_engine(conn_str, pool_recycle=3600)\n",
        "    connection = sqlEngine.connect()\n",
        "    dframe = pd.read_sql(sql_query, connection);\n",
        "    connection.close()\n",
        "\n",
        "    return dframe\n",
        "\n",
        "\n",
        "def set_dataframe(user_id, pwd, host_name, db_name, df, table_name, pk_column, db_operation):\n",
        "    conn_str = f\"mysql+pymysql://{user_id}:{pwd}@{host_name}/{db_name}\"\n",
        "    sqlEngine = create_engine(conn_str, pool_recycle=3600)\n",
        "    connection = sqlEngine.connect()\n",
        "\n",
        "    if db_operation == \"insert\":\n",
        "        df.to_sql(table_name, con=connection, index=False, if_exists='replace')\n",
        "        sqlEngine.execute(f\"ALTER TABLE {table_name} ADD PRIMARY KEY ({pk_column});\")\n",
        "\n",
        "    elif db_operation == \"update\":\n",
        "        df.to_sql(table_name, con=connection, index=False, if_exists='append')\n",
        "\n",
        "    connection.close()\n"
      ],
      "metadata": {
        "id": "Sih4e8NpVQHy"
      },
      "execution_count": 138,
      "outputs": []
    },
    {
      "cell_type": "code",
      "source": [
        "import os\n",
        "import pymysql\n",
        "import warnings\n",
        "warnings.filterwarnings('ignore')\n",
        "\n",
        "conn = pymysql.connect(host=host_name, user=user_id, password=pwd, database=db_name)\n",
        "cursor = conn.cursor()\n",
        "\n",
        "try:\n",
        "    cursor.execute('SELECT * FROM actor;')\n",
        "\n",
        "    for row in cursor.fetchmany(size=5):\n",
        "        print(row)\n",
        "\n",
        "    cursor.close()\n",
        "\n",
        "except:\n",
        "    print (\"Error: unable to fetch data\")\n",
        "\n",
        "conn.close()\n",
        "\n"
      ],
      "metadata": {
        "colab": {
          "base_uri": "https://localhost:8080/"
        },
        "id": "NSQE4XBLWbs9",
        "outputId": "83abc038-948c-4ea5-c963-796229038347"
      },
      "execution_count": 140,
      "outputs": [
        {
          "output_type": "stream",
          "name": "stdout",
          "text": [
            "(1, 'PENELOPE', 'GUINESS', datetime.datetime(2006, 2, 15, 4, 34, 33))\n",
            "(2, 'NICK', 'WAHLBERG', datetime.datetime(2006, 2, 15, 4, 34, 33))\n",
            "(3, 'ED', 'CHASE', datetime.datetime(2006, 2, 15, 4, 34, 33))\n",
            "(4, 'JENNIFER', 'DAVIS', datetime.datetime(2006, 2, 15, 4, 34, 33))\n",
            "(5, 'JOHNNY', 'LOLLOBRIGIDA', datetime.datetime(2006, 2, 15, 4, 34, 33))\n"
          ]
        }
      ]
    }
  ]
}