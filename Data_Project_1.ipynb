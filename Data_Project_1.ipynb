{
  "nbformat": 4,
  "nbformat_minor": 0,
  "metadata": {
    "colab": {
      "provenance": [],
      "authorship_tag": "ABX9TyMVUaKg1AgDLWBE6ZMYE2uZ",
      "include_colab_link": true
    },
    "kernelspec": {
      "name": "python3",
      "display_name": "Python 3"
    },
    "language_info": {
      "name": "python"
    }
  },
  "cells": [
    {
      "cell_type": "markdown",
      "metadata": {
        "id": "view-in-github",
        "colab_type": "text"
      },
      "source": [
        "<a href=\"https://colab.research.google.com/github/aniishap/ds2002/blob/main/Data_Project_1.ipynb\" target=\"_parent\"><img src=\"https://colab.research.google.com/assets/colab-badge.svg\" alt=\"Open In Colab\"/></a>"
      ]
    },
    {
      "cell_type": "markdown",
      "source": [
        "# ETL Data Processor Project"
      ],
      "metadata": {
        "id": "L-5LY7xAsDj0"
      }
    },
    {
      "cell_type": "markdown",
      "source": [
        "### Import Necessary Libraries"
      ],
      "metadata": {
        "id": "9YgqfKo-sKCN"
      }
    },
    {
      "cell_type": "code",
      "source": [
        "!pip install PyMySQL\n",
        "!pip install mysql.connector\n",
        "!pip install sqlalchemy\n",
        "!pip install mysql-connector-python\n",
        "!pip install pyMysql\n",
        "!pip install pymongo\n",
        "\n",
        "\n",
        "\n"
      ],
      "metadata": {
        "colab": {
          "base_uri": "https://localhost:8080/"
        },
        "id": "hpvm4GezGF7e",
        "outputId": "6e9e78d7-b7a6-49a8-f253-dc13c03c3571"
      },
      "execution_count": 1,
      "outputs": [
        {
          "output_type": "stream",
          "name": "stdout",
          "text": [
            "Collecting PyMySQL\n",
            "  Downloading PyMySQL-1.1.0-py3-none-any.whl (44 kB)\n",
            "\u001b[?25l     \u001b[90m━━━━━━━━━━━━━━━━━━━━━━━━━━━━━━━━━━━━━━━━\u001b[0m \u001b[32m0.0/44.8 kB\u001b[0m \u001b[31m?\u001b[0m eta \u001b[36m-:--:--\u001b[0m\r\u001b[2K     \u001b[90m━━━━━━━━━━━━━━━━━━━━━━━━━━━━━━━━━━━━━━━━\u001b[0m \u001b[32m44.8/44.8 kB\u001b[0m \u001b[31m1.8 MB/s\u001b[0m eta \u001b[36m0:00:00\u001b[0m\n",
            "\u001b[?25hInstalling collected packages: PyMySQL\n",
            "Successfully installed PyMySQL-1.1.0\n",
            "Collecting mysql.connector\n",
            "  Downloading mysql-connector-2.2.9.tar.gz (11.9 MB)\n",
            "\u001b[2K     \u001b[90m━━━━━━━━━━━━━━━━━━━━━━━━━━━━━━━━━━━━━━━━\u001b[0m \u001b[32m11.9/11.9 MB\u001b[0m \u001b[31m37.3 MB/s\u001b[0m eta \u001b[36m0:00:00\u001b[0m\n",
            "\u001b[?25h  Preparing metadata (setup.py) ... \u001b[?25l\u001b[?25hdone\n",
            "Building wheels for collected packages: mysql.connector\n",
            "  Building wheel for mysql.connector (setup.py) ... \u001b[?25l\u001b[?25hdone\n",
            "  Created wheel for mysql.connector: filename=mysql_connector-2.2.9-cp310-cp310-linux_x86_64.whl size=247953 sha256=126e9d7bfd60e9ac50f55451df92e06a9107ab08f4b367a2d91191eeb3b62d46\n",
            "  Stored in directory: /root/.cache/pip/wheels/76/48/9b/da67ff1a18fe8e9d428f9b1a177716d4a7d363d2bbe83bf6cf\n",
            "Successfully built mysql.connector\n",
            "Installing collected packages: mysql.connector\n",
            "Successfully installed mysql.connector-2.2.9\n",
            "Requirement already satisfied: sqlalchemy in /usr/local/lib/python3.10/dist-packages (2.0.29)\n",
            "Requirement already satisfied: typing-extensions>=4.6.0 in /usr/local/lib/python3.10/dist-packages (from sqlalchemy) (4.10.0)\n",
            "Requirement already satisfied: greenlet!=0.4.17 in /usr/local/lib/python3.10/dist-packages (from sqlalchemy) (3.0.3)\n",
            "Collecting mysql-connector-python\n",
            "  Downloading mysql_connector_python-8.3.0-cp310-cp310-manylinux_2_17_x86_64.whl (21.5 MB)\n",
            "\u001b[2K     \u001b[90m━━━━━━━━━━━━━━━━━━━━━━━━━━━━━━━━━━━━━━━━\u001b[0m \u001b[32m21.5/21.5 MB\u001b[0m \u001b[31m38.6 MB/s\u001b[0m eta \u001b[36m0:00:00\u001b[0m\n",
            "\u001b[?25hInstalling collected packages: mysql-connector-python\n",
            "Successfully installed mysql-connector-python-8.3.0\n",
            "Requirement already satisfied: pyMysql in /usr/local/lib/python3.10/dist-packages (1.1.0)\n",
            "Collecting pymongo\n",
            "  Downloading pymongo-4.6.3-cp310-cp310-manylinux_2_17_x86_64.manylinux2014_x86_64.whl (676 kB)\n",
            "\u001b[2K     \u001b[90m━━━━━━━━━━━━━━━━━━━━━━━━━━━━━━━━━━━━━━━━\u001b[0m \u001b[32m676.9/676.9 kB\u001b[0m \u001b[31m7.2 MB/s\u001b[0m eta \u001b[36m0:00:00\u001b[0m\n",
            "\u001b[?25hCollecting dnspython<3.0.0,>=1.16.0 (from pymongo)\n",
            "  Downloading dnspython-2.6.1-py3-none-any.whl (307 kB)\n",
            "\u001b[2K     \u001b[90m━━━━━━━━━━━━━━━━━━━━━━━━━━━━━━━━━━━━━━━━\u001b[0m \u001b[32m307.7/307.7 kB\u001b[0m \u001b[31m10.9 MB/s\u001b[0m eta \u001b[36m0:00:00\u001b[0m\n",
            "\u001b[?25hInstalling collected packages: dnspython, pymongo\n",
            "Successfully installed dnspython-2.6.1 pymongo-4.6.3\n"
          ]
        }
      ]
    },
    {
      "cell_type": "code",
      "execution_count": 4,
      "metadata": {
        "id": "J00PYJ-dFwup"
      },
      "outputs": [],
      "source": [
        "import os\n",
        "import datetime\n",
        "import pymongo\n",
        "import pprint\n",
        "import pandas as pd\n",
        "import numpy\n",
        "import pandas as pd\n",
        "from sqlalchemy import create_engine\n"
      ]
    },
    {
      "cell_type": "markdown",
      "source": [
        "### Declare & Assign Connection Variables to query MySQL using Python\n",
        "\n",
        "\n",
        "> Add blockquote\n",
        "\n"
      ],
      "metadata": {
        "id": "3tECgpoqsgT_"
      }
    },
    {
      "cell_type": "code",
      "source": [
        "\n",
        "\n",
        "#Set the host name here\n",
        "#If you are running against a database locally it would be local host or 127.0.0.1\n",
        "host_name = \"database.ds2002.org\"\n",
        "#host_ip = \"127.0.0.1\"\n",
        "port = \"3306\"\n",
        "\n",
        "user_id = \"euv7bw\" # my computing id\n",
        "pwd = \"euv7bw!\"  #\n",
        "db_name = \"sakila\" # db i want to use"
      ],
      "metadata": {
        "id": "uKRpCQe7GngA"
      },
      "execution_count": 5,
      "outputs": []
    },
    {
      "cell_type": "code",
      "source": [
        "def get_dataframe(user_id, pwd, host_name, db_name, sql_query):\n",
        "    conn_str = f\"mysql+pymysql://{user_id}:{pwd}@{host_name}/{db_name}\"\n",
        "    sqlEngine = create_engine(conn_str, pool_recycle=3600)\n",
        "    connection = sqlEngine.connect()\n",
        "    dframe = pd.read_sql(sql_query, connection);\n",
        "    connection.close()\n",
        "\n",
        "    return dframe\n",
        "\n",
        "\n",
        "def set_dataframe(user_id, pwd, host_name, db_name, df, table_name, pk_column, db_operation):\n",
        "    conn_str = f\"mysql+pymysql://{user_id}:{pwd}@{host_name}/{db_name}\"\n",
        "    sqlEngine = create_engine(conn_str, pool_recycle=3600)\n",
        "    connection = sqlEngine.connect()\n",
        "\n",
        "    if db_operation == \"insert\":\n",
        "        df.to_sql(table_name, con=connection, index=False, if_exists='replace')\n",
        "        sqlEngine.execute(f\"ALTER TABLE {table_name} ADD PRIMARY KEY ({pk_column});\")\n",
        "\n",
        "    elif db_operation == \"update\":\n",
        "        df.to_sql(table_name, con=connection, index=False, if_exists='append')\n",
        "\n",
        "    connection.close()\n"
      ],
      "metadata": {
        "id": "Sih4e8NpVQHy"
      },
      "execution_count": 9,
      "outputs": []
    },
    {
      "cell_type": "code",
      "source": [
        "import os\n",
        "import pymysql\n",
        "import warnings\n",
        "warnings.filterwarnings('ignore')\n",
        "\n",
        "conn = pymysql.connect(host=host_name, user=user_id, password=pwd, database=db_name)\n",
        "cursor = conn.cursor()\n",
        "\n",
        "try:\n",
        "    cursor.execute('SELECT * FROM actor;')\n",
        "\n",
        "    for row in cursor.fetchmany(size=5):\n",
        "        print(row)\n",
        "\n",
        "    cursor.close()\n",
        "\n",
        "except:\n",
        "    print (\"Error: unable to fetch data\")\n",
        "\n",
        "conn.close()\n",
        "\n"
      ],
      "metadata": {
        "colab": {
          "base_uri": "https://localhost:8080/"
        },
        "id": "NSQE4XBLWbs9",
        "outputId": "87958cd2-d8c0-4430-e436-1ef2f3f7bd33"
      },
      "execution_count": 10,
      "outputs": [
        {
          "output_type": "stream",
          "name": "stdout",
          "text": [
            "(1, 'PENELOPE', 'GUINESS', datetime.datetime(2006, 2, 15, 4, 34, 33))\n",
            "(2, 'NICK', 'WAHLBERG', datetime.datetime(2006, 2, 15, 4, 34, 33))\n",
            "(3, 'ED', 'CHASE', datetime.datetime(2006, 2, 15, 4, 34, 33))\n",
            "(4, 'JENNIFER', 'DAVIS', datetime.datetime(2006, 2, 15, 4, 34, 33))\n",
            "(5, 'JOHNNY', 'LOLLOBRIGIDA', datetime.datetime(2006, 2, 15, 4, 34, 33))\n"
          ]
        }
      ]
    }
  ]
}